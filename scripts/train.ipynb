{
 "cells": [
  {
   "cell_type": "code",
   "execution_count": 2,
   "id": "3c072be1",
   "metadata": {},
   "outputs": [],
   "source": [
    "import numpy as np\n",
    "import matplotlib.pyplot as plt\n",
    "import pandas as pd\n",
    "import os\n",
    "from ultralytics import YOLO"
   ]
  },
  {
   "cell_type": "code",
   "execution_count": 3,
   "id": "55461341",
   "metadata": {},
   "outputs": [
    {
     "name": "stdout",
     "output_type": "stream",
     "text": [
      "Downloading https://github.com/ultralytics/assets/releases/download/v8.3.0/yolov8n.pt to 'yolov8n.pt'...\n"
     ]
    },
    {
     "name": "stderr",
     "output_type": "stream",
     "text": [
      "100%|██████████| 6.25M/6.25M [00:01<00:00, 4.22MB/s]\n"
     ]
    }
   ],
   "source": [
    "model = YOLO(\"yolov8n.pt\")"
   ]
  },
  {
   "cell_type": "code",
   "execution_count": 3,
   "id": "29f1f09e",
   "metadata": {},
   "outputs": [],
   "source": [
    "yaml_path = \"../data/BrainTumor/data.yaml\""
   ]
  },
  {
   "cell_type": "code",
   "execution_count": null,
   "id": "051fb640",
   "metadata": {},
   "outputs": [],
   "source": [
    "results = model.train(\n",
    "    data=yaml_path,\n",
    "    epochs=10,\n",
    "    imgsz=640,\n",
    "    batch=16,\n",
    "    optimizer='auto',\n",
    ")"
   ]
  },
  {
   "cell_type": "code",
   "execution_count": null,
   "id": "d16aadb8",
   "metadata": {},
   "outputs": [
    {
     "name": "stdout",
     "output_type": "stream",
     "text": [
      "New https://pypi.org/project/ultralytics/8.3.155 available  Update with 'pip install -U ultralytics'\n",
      "Ultralytics 8.3.154  Python-3.12.4 torch-2.7.1+cpu CPU (Intel Core(TM) i5-10300H 2.50GHz)\n",
      "\u001b[34m\u001b[1mengine\\trainer: \u001b[0magnostic_nms=False, amp=True, augment=False, auto_augment=randaugment, batch=16, bgr=0.0, box=7.5, cache=False, cfg=None, classes=None, close_mosaic=10, cls=0.5, conf=None, copy_paste=0.0, copy_paste_mode=flip, cos_lr=False, cutmix=0.0, data=../data/BrainTumor/data.yaml, degrees=0.0, deterministic=True, device=cpu, dfl=1.5, dnn=False, dropout=0.0, dynamic=False, embed=None, epochs=50, erasing=0.4, exist_ok=False, fliplr=0.5, flipud=0.0, format=torchscript, fraction=1.0, freeze=None, half=False, hsv_h=0.015, hsv_s=0.7, hsv_v=0.4, imgsz=640, int8=False, iou=0.7, keras=False, kobj=1.0, line_width=None, lr0=0.01, lrf=0.01, mask_ratio=4, max_det=300, mixup=0.0, mode=train, model=../runs/detect/train/weights/best.pt, momentum=0.937, mosaic=1.0, multi_scale=False, name=train2, nbs=64, nms=False, opset=None, optimize=False, optimizer=auto, overlap_mask=True, patience=100, perspective=0.0, plots=True, pose=12.0, pretrained=True, profile=False, project=None, rect=False, resume=False, retina_masks=False, save=True, save_conf=False, save_crop=False, save_dir=d:\\GitHub\\Brain_Tumor_Detection_YOLO\\runs\\detect\\train2, save_frames=False, save_json=False, save_period=-1, save_txt=False, scale=0.5, seed=0, shear=0.0, show=False, show_boxes=True, show_conf=True, show_labels=True, simplify=True, single_cls=False, source=None, split=val, stream_buffer=False, task=detect, time=None, tracker=botsort.yaml, translate=0.1, val=True, verbose=True, vid_stride=1, visualize=False, warmup_bias_lr=0.1, warmup_epochs=3.0, warmup_momentum=0.8, weight_decay=0.0005, workers=8, workspace=None\n",
      "\n",
      "                   from  n    params  module                                       arguments                     \n",
      "  0                  -1  1       464  ultralytics.nn.modules.conv.Conv             [3, 16, 3, 2]                 \n",
      "  1                  -1  1      4672  ultralytics.nn.modules.conv.Conv             [16, 32, 3, 2]                \n",
      "  2                  -1  1      7360  ultralytics.nn.modules.block.C2f             [32, 32, 1, True]             \n",
      "  3                  -1  1     18560  ultralytics.nn.modules.conv.Conv             [32, 64, 3, 2]                \n",
      "  4                  -1  2     49664  ultralytics.nn.modules.block.C2f             [64, 64, 2, True]             \n",
      "  5                  -1  1     73984  ultralytics.nn.modules.conv.Conv             [64, 128, 3, 2]               \n",
      "  6                  -1  2    197632  ultralytics.nn.modules.block.C2f             [128, 128, 2, True]           \n",
      "  7                  -1  1    295424  ultralytics.nn.modules.conv.Conv             [128, 256, 3, 2]              \n",
      "  8                  -1  1    460288  ultralytics.nn.modules.block.C2f             [256, 256, 1, True]           \n",
      "  9                  -1  1    164608  ultralytics.nn.modules.block.SPPF            [256, 256, 5]                 \n",
      " 10                  -1  1         0  torch.nn.modules.upsampling.Upsample         [None, 2, 'nearest']          \n",
      " 11             [-1, 6]  1         0  ultralytics.nn.modules.conv.Concat           [1]                           \n",
      " 12                  -1  1    148224  ultralytics.nn.modules.block.C2f             [384, 128, 1]                 \n",
      " 13                  -1  1         0  torch.nn.modules.upsampling.Upsample         [None, 2, 'nearest']          \n",
      " 14             [-1, 4]  1         0  ultralytics.nn.modules.conv.Concat           [1]                           \n",
      " 15                  -1  1     37248  ultralytics.nn.modules.block.C2f             [192, 64, 1]                  \n",
      " 16                  -1  1     36992  ultralytics.nn.modules.conv.Conv             [64, 64, 3, 2]                \n",
      " 17            [-1, 12]  1         0  ultralytics.nn.modules.conv.Concat           [1]                           \n",
      " 18                  -1  1    123648  ultralytics.nn.modules.block.C2f             [192, 128, 1]                 \n",
      " 19                  -1  1    147712  ultralytics.nn.modules.conv.Conv             [128, 128, 3, 2]              \n",
      " 20             [-1, 9]  1         0  ultralytics.nn.modules.conv.Concat           [1]                           \n",
      " 21                  -1  1    493056  ultralytics.nn.modules.block.C2f             [384, 256, 1]                 \n",
      " 22        [15, 18, 21]  1    751897  ultralytics.nn.modules.head.Detect           [3, [64, 128, 256]]           \n",
      "Model summary: 129 layers, 3,011,433 parameters, 3,011,417 gradients, 8.2 GFLOPs\n",
      "\n",
      "Transferred 355/355 items from pretrained weights\n",
      "Freezing layer 'model.22.dfl.conv.weight'\n",
      "\u001b[34m\u001b[1mtrain: \u001b[0mFast image access  (ping: 0.50.0 ms, read: 2.20.3 MB/s, size: 31.9 KB)\n"
     ]
    },
    {
     "name": "stderr",
     "output_type": "stream",
     "text": [
      "\u001b[34m\u001b[1mtrain: \u001b[0mScanning D:\\GitHub\\Brain_Tumor_Detection_YOLO\\data\\BrainTumor\\train\\labels.cache... 2144 images, 0 backgrounds, 0 corrupt: 100%|██████████| 2144/2144 [00:00<?, ?it/s]"
     ]
    },
    {
     "name": "stdout",
     "output_type": "stream",
     "text": [
      "WARNING Box and segment counts should be equal, but got len(segments) = 2143, len(boxes) = 2144. To resolve this only boxes will be used and all segments will be removed. To avoid this please supply either a detect or segment dataset, not a detect-segment mixed dataset.\n",
      "\u001b[34m\u001b[1mval: \u001b[0mFast image access  (ping: 0.50.1 ms, read: 2.70.4 MB/s, size: 34.0 KB)\n"
     ]
    },
    {
     "name": "stderr",
     "output_type": "stream",
     "text": [
      "\n",
      "d:\\GitHub\\Brain_Tumor_Detection_YOLO\\env\\Lib\\site-packages\\torch\\utils\\data\\dataloader.py:665: UserWarning: 'pin_memory' argument is set as true but no accelerator is found, then device pinned memory won't be used.\n",
      "  warnings.warn(warn_msg)\n",
      "\u001b[34m\u001b[1mval: \u001b[0mScanning D:\\GitHub\\Brain_Tumor_Detection_YOLO\\data\\BrainTumor\\valid\\labels.cache... 612 images, 0 backgrounds, 0 corrupt: 100%|██████████| 612/612 [00:00<?, ?it/s]\n",
      "d:\\GitHub\\Brain_Tumor_Detection_YOLO\\env\\Lib\\site-packages\\torch\\utils\\data\\dataloader.py:665: UserWarning: 'pin_memory' argument is set as true but no accelerator is found, then device pinned memory won't be used.\n",
      "  warnings.warn(warn_msg)\n"
     ]
    },
    {
     "name": "stdout",
     "output_type": "stream",
     "text": [
      "Plotting labels to d:\\GitHub\\Brain_Tumor_Detection_YOLO\\runs\\detect\\train2\\labels.jpg... \n",
      "\u001b[34m\u001b[1moptimizer:\u001b[0m 'optimizer=auto' found, ignoring 'lr0=0.01' and 'momentum=0.937' and determining best 'optimizer', 'lr0' and 'momentum' automatically... \n",
      "\u001b[34m\u001b[1moptimizer:\u001b[0m AdamW(lr=0.001429, momentum=0.9) with parameter groups 57 weight(decay=0.0), 64 weight(decay=0.0005), 63 bias(decay=0.0)\n",
      "Image sizes 640 train, 640 val\n",
      "Using 0 dataloader workers\n",
      "Logging results to \u001b[1md:\\GitHub\\Brain_Tumor_Detection_YOLO\\runs\\detect\\train2\u001b[0m\n",
      "Starting training for 50 epochs...\n",
      "\n",
      "      Epoch    GPU_mem   box_loss   cls_loss   dfl_loss  Instances       Size\n"
     ]
    },
    {
     "name": "stderr",
     "output_type": "stream",
     "text": [
      "       1/50         0G      1.074      1.233      1.208         26        640: 100%|██████████| 134/134 [16:11<00:00,  7.25s/it]\n",
      "                 Class     Images  Instances      Box(P          R      mAP50  mAP50-95): 100%|██████████| 20/20 [01:34<00:00,  4.74s/it]"
     ]
    },
    {
     "name": "stdout",
     "output_type": "stream",
     "text": [
      "                   all        612        612      0.728      0.669      0.717      0.521\n"
     ]
    },
    {
     "name": "stderr",
     "output_type": "stream",
     "text": [
      "\n"
     ]
    },
    {
     "name": "stdout",
     "output_type": "stream",
     "text": [
      "\n",
      "      Epoch    GPU_mem   box_loss   cls_loss   dfl_loss  Instances       Size\n"
     ]
    },
    {
     "name": "stderr",
     "output_type": "stream",
     "text": [
      "       2/50         0G      1.123      1.256      1.235         29        640: 100%|██████████| 134/134 [13:08<00:00,  5.88s/it]\n",
      "                 Class     Images  Instances      Box(P          R      mAP50  mAP50-95): 100%|██████████| 20/20 [01:11<00:00,  3.56s/it]"
     ]
    },
    {
     "name": "stdout",
     "output_type": "stream",
     "text": [
      "                   all        612        612      0.666      0.575      0.655      0.456\n"
     ]
    },
    {
     "name": "stderr",
     "output_type": "stream",
     "text": [
      "\n"
     ]
    },
    {
     "name": "stdout",
     "output_type": "stream",
     "text": [
      "\n",
      "      Epoch    GPU_mem   box_loss   cls_loss   dfl_loss  Instances       Size\n"
     ]
    },
    {
     "name": "stderr",
     "output_type": "stream",
     "text": [
      "       3/50         0G      1.195      1.367      1.288         23        640: 100%|██████████| 134/134 [12:28<00:00,  5.58s/it]\n",
      "                 Class     Images  Instances      Box(P          R      mAP50  mAP50-95): 100%|██████████| 20/20 [01:09<00:00,  3.49s/it]"
     ]
    },
    {
     "name": "stdout",
     "output_type": "stream",
     "text": [
      "                   all        612        612      0.724      0.657      0.709      0.498\n"
     ]
    },
    {
     "name": "stderr",
     "output_type": "stream",
     "text": [
      "\n"
     ]
    },
    {
     "name": "stdout",
     "output_type": "stream",
     "text": [
      "\n",
      "      Epoch    GPU_mem   box_loss   cls_loss   dfl_loss  Instances       Size\n"
     ]
    },
    {
     "name": "stderr",
     "output_type": "stream",
     "text": [
      "       4/50         0G      1.214      1.381      1.306         27        640: 100%|██████████| 134/134 [11:14<00:00,  5.04s/it]\n",
      "                 Class     Images  Instances      Box(P          R      mAP50  mAP50-95): 100%|██████████| 20/20 [01:05<00:00,  3.28s/it]"
     ]
    },
    {
     "name": "stdout",
     "output_type": "stream",
     "text": [
      "                   all        612        612      0.601      0.664      0.678       0.49\n"
     ]
    },
    {
     "name": "stderr",
     "output_type": "stream",
     "text": [
      "\n"
     ]
    },
    {
     "name": "stdout",
     "output_type": "stream",
     "text": [
      "\n",
      "      Epoch    GPU_mem   box_loss   cls_loss   dfl_loss  Instances       Size\n"
     ]
    },
    {
     "name": "stderr",
     "output_type": "stream",
     "text": [
      "       5/50         0G      1.199      1.311      1.294         29        640: 100%|██████████| 134/134 [11:23<00:00,  5.10s/it]\n",
      "                 Class     Images  Instances      Box(P          R      mAP50  mAP50-95): 100%|██████████| 20/20 [01:08<00:00,  3.43s/it]"
     ]
    },
    {
     "name": "stdout",
     "output_type": "stream",
     "text": [
      "                   all        612        612      0.788      0.649       0.74      0.512\n"
     ]
    },
    {
     "name": "stderr",
     "output_type": "stream",
     "text": [
      "\n"
     ]
    },
    {
     "name": "stdout",
     "output_type": "stream",
     "text": [
      "\n",
      "      Epoch    GPU_mem   box_loss   cls_loss   dfl_loss  Instances       Size\n"
     ]
    },
    {
     "name": "stderr",
     "output_type": "stream",
     "text": [
      "       6/50         0G      1.178      1.314      1.292         27        640: 100%|██████████| 134/134 [11:25<00:00,  5.12s/it]\n",
      "                 Class     Images  Instances      Box(P          R      mAP50  mAP50-95): 100%|██████████| 20/20 [01:08<00:00,  3.40s/it]"
     ]
    },
    {
     "name": "stdout",
     "output_type": "stream",
     "text": [
      "                   all        612        612      0.602      0.493      0.526      0.352\n"
     ]
    },
    {
     "name": "stderr",
     "output_type": "stream",
     "text": [
      "\n"
     ]
    },
    {
     "name": "stdout",
     "output_type": "stream",
     "text": [
      "\n",
      "      Epoch    GPU_mem   box_loss   cls_loss   dfl_loss  Instances       Size\n"
     ]
    },
    {
     "name": "stderr",
     "output_type": "stream",
     "text": [
      "       7/50         0G      1.143      1.188       1.26         21        640: 100%|██████████| 134/134 [11:13<00:00,  5.03s/it]\n",
      "                 Class     Images  Instances      Box(P          R      mAP50  mAP50-95): 100%|██████████| 20/20 [01:06<00:00,  3.32s/it]"
     ]
    },
    {
     "name": "stdout",
     "output_type": "stream",
     "text": [
      "                   all        612        612      0.814      0.737      0.814      0.598\n"
     ]
    },
    {
     "name": "stderr",
     "output_type": "stream",
     "text": [
      "\n"
     ]
    },
    {
     "name": "stdout",
     "output_type": "stream",
     "text": [
      "\n",
      "      Epoch    GPU_mem   box_loss   cls_loss   dfl_loss  Instances       Size\n"
     ]
    },
    {
     "name": "stderr",
     "output_type": "stream",
     "text": [
      "       8/50         0G      1.168      1.184      1.273         26        640: 100%|██████████| 134/134 [13:00<00:00,  5.82s/it]\n",
      "                 Class     Images  Instances      Box(P          R      mAP50  mAP50-95): 100%|██████████| 20/20 [01:23<00:00,  4.18s/it]"
     ]
    },
    {
     "name": "stdout",
     "output_type": "stream",
     "text": [
      "                   all        612        612      0.829      0.697      0.804       0.58\n"
     ]
    },
    {
     "name": "stderr",
     "output_type": "stream",
     "text": [
      "\n"
     ]
    },
    {
     "name": "stdout",
     "output_type": "stream",
     "text": [
      "\n",
      "      Epoch    GPU_mem   box_loss   cls_loss   dfl_loss  Instances       Size\n"
     ]
    },
    {
     "name": "stderr",
     "output_type": "stream",
     "text": [
      "       9/50         0G      1.146      1.167       1.25         23        640:  84%|████████▎ | 112/134 [12:18<02:29,  6.80s/it]"
     ]
    }
   ],
   "source": [
    "best_model_path = os.path.join('../runs/detect/train/', 'weights/best.pt')\n",
    "model = YOLO(best_model_path)\n",
    "resluts = model.train(\n",
    "    data=yaml_path,\n",
    "    epochs=50,\n",
    "    imgsz=640,\n",
    "    batch=16,\n",
    "    optimizer='auto',\n",
    ")"
   ]
  },
  {
   "cell_type": "code",
   "execution_count": 6,
   "id": "73c9fd82",
   "metadata": {},
   "outputs": [
    {
     "name": "stdout",
     "output_type": "stream",
     "text": [
      "Ultralytics 8.3.154  Python-3.12.4 torch-2.7.1+cpu CPU (Intel Core(TM) i5-10300H 2.50GHz)\n",
      "Model summary (fused): 72 layers, 3,006,233 parameters, 0 gradients, 8.1 GFLOPs\n",
      "\u001b[34m\u001b[1mval: \u001b[0mFast image access  (ping: 0.20.0 ms, read: 2.60.2 MB/s, size: 32.4 KB)\n"
     ]
    },
    {
     "name": "stderr",
     "output_type": "stream",
     "text": [
      "\u001b[34m\u001b[1mval: \u001b[0mScanning D:\\GitHub\\Brain_Tumor_Detection_YOLO\\data\\BrainTumor\\valid\\labels.cache... 612 images, 0 backgrounds, 0 corrupt: 100%|██████████| 612/612 [00:00<?, ?it/s]\n",
      "d:\\GitHub\\Brain_Tumor_Detection_YOLO\\env\\Lib\\site-packages\\torch\\utils\\data\\dataloader.py:665: UserWarning: 'pin_memory' argument is set as true but no accelerator is found, then device pinned memory won't be used.\n",
      "  warnings.warn(warn_msg)\n",
      "                 Class     Images  Instances      Box(P          R      mAP50  mAP50-95): 100%|██████████| 39/39 [01:18<00:00,  2.01s/it]\n"
     ]
    },
    {
     "name": "stdout",
     "output_type": "stream",
     "text": [
      "                   all        612        612      0.867      0.825      0.887      0.672\n",
      "                glioma        285        285      0.791      0.663      0.761      0.487\n",
      "            meningioma        142        142      0.927      0.915      0.962      0.807\n",
      "             pituitary        185        185      0.883      0.897      0.938      0.723\n",
      "Speed: 1.6ms preprocess, 99.0ms inference, 0.0ms loss, 0.9ms postprocess per image\n",
      "Results saved to \u001b[1md:\\GitHub\\Brain_Tumor_Detection_YOLO\\runs\\detect\\val\u001b[0m\n"
     ]
    }
   ],
   "source": [
    "# Define the path to the directory\n",
    "post_training_files_path = '../runs/detect/train/'\n",
    "\n",
    "# Construct the path to the best model weights file using os.path.join\n",
    "best_model_path = os.path.join(post_training_files_path, 'weights/best.pt')\n",
    "\n",
    "# Load the best model weights into the YOLO model\n",
    "best_model = YOLO(best_model_path)\n",
    "\n",
    "# Validate the best model using the validation set with default parameters\n",
    "metrics = best_model.val(split='val')"
   ]
  },
  {
   "cell_type": "code",
   "execution_count": 9,
   "id": "b08af27d",
   "metadata": {},
   "outputs": [],
   "source": [
    "import cv2"
   ]
  },
  {
   "cell_type": "code",
   "execution_count": null,
   "id": "770edc12",
   "metadata": {},
   "outputs": [
    {
     "name": "stdout",
     "output_type": "stream",
     "text": [
      "\n",
      "0: 320x320 1 pituitary, 48.1ms\n",
      "Speed: 1.8ms preprocess, 48.1ms inference, 1.0ms postprocess per image at shape (1, 3, 320, 320)\n",
      "\n",
      "0: 320x320 1 pituitary, 46.2ms\n",
      "Speed: 0.7ms preprocess, 46.2ms inference, 3.5ms postprocess per image at shape (1, 3, 320, 320)\n",
      "\n",
      "0: 320x320 2 pituitarys, 42.4ms\n",
      "Speed: 1.8ms preprocess, 42.4ms inference, 0.8ms postprocess per image at shape (1, 3, 320, 320)\n",
      "\n",
      "0: 320x320 (no detections), 39.3ms\n",
      "Speed: 0.7ms preprocess, 39.3ms inference, 0.4ms postprocess per image at shape (1, 3, 320, 320)\n",
      "\n",
      "0: 320x320 1 meningioma, 39.4ms\n",
      "Speed: 0.7ms preprocess, 39.4ms inference, 0.9ms postprocess per image at shape (1, 3, 320, 320)\n",
      "\n",
      "0: 320x320 (no detections), 39.8ms\n",
      "Speed: 0.9ms preprocess, 39.8ms inference, 0.5ms postprocess per image at shape (1, 3, 320, 320)\n",
      "\n",
      "0: 320x320 (no detections), 39.5ms\n",
      "Speed: 0.9ms preprocess, 39.5ms inference, 0.5ms postprocess per image at shape (1, 3, 320, 320)\n",
      "\n",
      "0: 320x320 1 glioma, 38.9ms\n",
      "Speed: 0.7ms preprocess, 38.9ms inference, 0.8ms postprocess per image at shape (1, 3, 320, 320)\n",
      "\n",
      "0: 320x320 1 glioma, 39.0ms\n",
      "Speed: 0.6ms preprocess, 39.0ms inference, 0.8ms postprocess per image at shape (1, 3, 320, 320)\n",
      "\n",
      "0: 320x320 1 glioma, 40.4ms\n",
      "Speed: 0.7ms preprocess, 40.4ms inference, 0.9ms postprocess per image at shape (1, 3, 320, 320)\n",
      "\n",
      "0: 320x320 (no detections), 38.9ms\n",
      "Speed: 0.8ms preprocess, 38.9ms inference, 0.4ms postprocess per image at shape (1, 3, 320, 320)\n",
      "\n",
      "0: 320x320 (no detections), 35.9ms\n",
      "Speed: 1.4ms preprocess, 35.9ms inference, 0.5ms postprocess per image at shape (1, 3, 320, 320)\n",
      "\n",
      "0: 320x320 (no detections), 37.4ms\n",
      "Speed: 0.7ms preprocess, 37.4ms inference, 0.5ms postprocess per image at shape (1, 3, 320, 320)\n",
      "\n",
      "0: 320x320 1 meningioma, 38.8ms\n",
      "Speed: 0.5ms preprocess, 38.8ms inference, 0.8ms postprocess per image at shape (1, 3, 320, 320)\n",
      "\n",
      "0: 320x320 (no detections), 39.6ms\n",
      "Speed: 0.7ms preprocess, 39.6ms inference, 1.1ms postprocess per image at shape (1, 3, 320, 320)\n",
      "\n",
      "0: 320x320 1 meningioma, 40.2ms\n",
      "Speed: 0.5ms preprocess, 40.2ms inference, 0.8ms postprocess per image at shape (1, 3, 320, 320)\n",
      "Press any key to close the window.\n"
     ]
    }
   ],
   "source": [
    "import cv2\n",
    "import os\n",
    "import numpy as np\n",
    "\n",
    "# Normalization function\n",
    "def normalize_image(image):\n",
    "    return image / 255.0\n",
    "\n",
    "# Image resizing function\n",
    "def resize_image(image, size=(640, 640)):\n",
    "    return cv2.resize(image, size)\n",
    "\n",
    "# Path to validation images\n",
    "dataset_path = '../data/BrainTumor/'  # Place your dataset path here\n",
    "valid_images_path = os.path.join(dataset_path, 'test', 'images')\n",
    "\n",
    "# List of all jpg images in the directory\n",
    "image_files = [file for file in os.listdir(valid_images_path) if file.endswith('.jpg')]\n",
    "\n",
    "if len(image_files) > 0:\n",
    "    num_images = len(image_files)\n",
    "    step_size = max(1, num_images // 16)\n",
    "    selected_images = [image_files[i] for i in range(0, num_images, step_size)][:16]\n",
    "\n",
    "    images = []\n",
    "    for i, image_name in enumerate(selected_images):\n",
    "        image_path = os.path.join(valid_images_path, image_name)\n",
    "        image = cv2.imread(image_path)\n",
    "        if image is not None:\n",
    "            resized_image = resize_image(image, size=(320, 320))  # Use smaller size for grid\n",
    "            normalized_image = normalize_image(resized_image)\n",
    "            normalized_image_uint8 = (normalized_image * 255).astype(np.uint8)\n",
    "            results = model.predict(source=normalized_image_uint8, imgsz=320, conf=0.5)\n",
    "            annotated_image = results[0].plot(line_width=1)\n",
    "            annotated_image_rgb = cv2.cvtColor(annotated_image, cv2.COLOR_BGR2RGB)\n",
    "            images.append(annotated_image_rgb)\n",
    "        else:\n",
    "            print(f\"Failed to load image {image_path}\")\n",
    "\n",
    "    # Fill up to 16 images if less\n",
    "    while len(images) < 16:\n",
    "        images.append(np.zeros((320, 320, 3), dtype=np.uint8))\n",
    "\n",
    "    # Arrange images in a 4x4 grid\n",
    "    rows = []\n",
    "    for i in range(0, 16, 4):\n",
    "        row = np.hstack(images[i:i+4])\n",
    "        rows.append(row)\n",
    "    grid_image = np.vstack(rows)\n",
    "\n",
    "    cv2.imshow(\"Test Set Inferences (Grid)\", grid_image)\n",
    "    print(\"Press any key to close the window.\")\n",
    "    cv2.waitKey(0)\n",
    "    cv2.destroyAllWindows()"
   ]
  }
 ],
 "metadata": {
  "kernelspec": {
   "display_name": "env",
   "language": "python",
   "name": "python3"
  },
  "language_info": {
   "codemirror_mode": {
    "name": "ipython",
    "version": 3
   },
   "file_extension": ".py",
   "mimetype": "text/x-python",
   "name": "python",
   "nbconvert_exporter": "python",
   "pygments_lexer": "ipython3",
   "version": "3.12.4"
  }
 },
 "nbformat": 4,
 "nbformat_minor": 5
}
